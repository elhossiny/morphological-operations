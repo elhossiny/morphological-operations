{
  "nbformat": 4,
  "nbformat_minor": 0,
  "metadata": {
    "colab": {
      "provenance": [],
      "collapsed_sections": []
    },
    "kernelspec": {
      "name": "python3",
      "display_name": "Python 3"
    },
    "language_info": {
      "name": "python"
    }
  },
  "cells": [
    {
      "cell_type": "code",
      "execution_count": null,
      "metadata": {
        "colab": {
          "base_uri": "https://localhost:8080/",
          "height": 250
        },
        "id": "AFy1t51hvlQC",
        "outputId": "a0b7c974-a237-4f11-f887-f3a56666549d"
      },
      "outputs": [
        {
          "output_type": "display_data",
          "data": {
            "text/plain": [
              "<PIL.Image.Image image mode=L size=355x233 at 0x7FA0088EE590>"
            ],
            "image/png": "[encoded data removed]"
          },
          "metadata": {}
        }
      ],
      "source": [
        "cv2_imshow(img)"
      ]
    },
    {
      "cell_type": "code",
      "source": [],
      "metadata": {
        "id": "XRVAUgk7wkY3"
      },
      "execution_count": null,
      "outputs": []
    },
    {
      "cell_type": "markdown",
      "source": [
        "Here, as an example, I would use a 5x5 kernel with full of ones. Let's see it how it works:\n",
        "\n"
      ],
      "metadata": {
        "id": "p5cVZlvzvnsk"
      }
    },
    {
      "cell_type": "code",
      "source": [
        "import cv2 as cv\n",
        "import numpy as np\n",
        "img = cv.imread('jjj.png',0)\n",
        "kernel = np.ones((5,5),np.uint8)\n",
        "erosion = cv.erode(img,kernel,iterations = 1)"
      ],
      "metadata": {
        "id": "mJXXNujxvovo"
      },
      "execution_count": null,
      "outputs": []
    },
    {
      "cell_type": "code",
      "source": [
        "from google.colab.patches import cv2_imshow"
      ],
      "metadata": {
        "id": "3P8i-ztGwKki"
      },
      "execution_count": null,
      "outputs": []
    },
    {
      "cell_type": "code",
      "source": [
        "cv2_imshow(erosion)"
      ],
      "metadata": {
        "colab": {
          "base_uri": "https://localhost:8080/",
          "height": 250
        },
        "id": "ILIeiDO1wU6Z",
        "outputId": "cee8973b-95c0-4252-c336-cf30d99a0fdf"
      },
      "execution_count": null,
      "outputs": [
        {
          "output_type": "display_data",
          "data": {
            "text/plain": [
              "<PIL.Image.Image image mode=L size=355x233 at 0x7FA008961290>"
            ],
            "image/png": "[encoded data removed]"
          },
          "metadata": {}
        }
      ]
    },
    {
      "cell_type": "markdown",
      "source": [
        "2. Dilation\n",
        "It is just opposite of erosion. Here, a pixel element is '1' if at least one pixel under the kernel is '1'. So it increases the white region in the image or size of foreground object increases. Normally, in cases like noise removal, erosion is followed by dilation. Because, erosion removes white noises, but it also shrinks our object. So we dilate it. Since noise is gone, they won't come back, but our object area increases. It is also useful in joining broken parts of an object.\n",
        "\n"
      ],
      "metadata": {
        "id": "TYTPoTPzwph5"
      }
    },
    {
      "cell_type": "code",
      "source": [
        "dilation = cv.dilate(img,kernel,iterations = 1)\n"
      ],
      "metadata": {
        "id": "vQSoBSFlwl9c"
      },
      "execution_count": null,
      "outputs": []
    },
    {
      "cell_type": "code",
      "source": [
        "cv2_imshow(dilation)"
      ],
      "metadata": {
        "colab": {
          "base_uri": "https://localhost:8080/",
          "height": 250
        },
        "id": "Auz4F_awwyow",
        "outputId": "bbffc1dd-0a1b-468b-86ba-7f0b279ae1f6"
      },
      "execution_count": null,
      "outputs": [
        {
          "output_type": "display_data",
          "data": {
            "text/plain": [
              "<PIL.Image.Image image mode=L size=355x233 at 0x7FA0088FD890>"
            ],
            "image/png": "[encoded data removed]"
          },
          "metadata": {}
        }
      ]
    },
    {
      "cell_type": "markdown",
      "source": [
        "3. Opening\n",
        "Opening is just another name of erosion followed by dilation. It is useful in removing noise, as we explained above. Here we use the function, cv.morphologyEx()\n",
        "\n"
      ],
      "metadata": {
        "id": "lOLj3kXSw8v4"
      }
    },
    {
      "cell_type": "code",
      "source": [
        "opening = cv.morphologyEx(img, cv.MORPH_OPEN, kernel)\n"
      ],
      "metadata": {
        "id": "eDZIXGrgw47-"
      },
      "execution_count": null,
      "outputs": []
    },
    {
      "cell_type": "code",
      "source": [
        "cv2_imshow(opening)"
      ],
      "metadata": {
        "colab": {
          "base_uri": "https://localhost:8080/",
          "height": 251
        },
        "id": "MLw9uSDmxIWX",
        "outputId": "84061b26-090d-4de0-daec-68dcd77ed659"
      },
      "execution_count": null,
      "outputs": [
        {
          "output_type": "display_data",
          "data": {
            "text/plain": [
              "<PIL.Image.Image image mode=L size=355x234 at 0x7FA0089611D0>"
            ],
            "image/png": "[encoded data removed]"
          },
          "metadata": {}
        }
      ]
    },
    {
      "cell_type": "markdown",
      "source": [
        "Closing\n",
        "Closing is reverse of Opening, Dilation followed by Erosion. It is useful in closing small holes inside the foreground objects, or small black points on the object.\n",
        "\n"
      ],
      "metadata": {
        "id": "gUjeiLH-xYhy"
      }
    },
    {
      "cell_type": "code",
      "source": [
        "closing = cv.morphologyEx(img, cv.MORPH_CLOSE, kernel)\n"
      ],
      "metadata": {
        "id": "dCmAD4guxVPy"
      },
      "execution_count": null,
      "outputs": []
    },
    {
      "cell_type": "code",
      "source": [
        "cv2_imshow(closing)"
      ],
      "metadata": {
        "colab": {
          "base_uri": "https://localhost:8080/",
          "height": 393
        },
        "id": "WhEKh2Kjxezn",
        "outputId": "c7ef3ace-78fc-4c78-fe26-340b9edf3eff"
      },
      "execution_count": null,
      "outputs": [
        {
          "output_type": "display_data",
          "data": {
            "text/plain": [
              "<PIL.Image.Image image mode=L size=355x376 at 0x7FA0088F2810>"
            ],
            "image/png": "[encoded data removed]"
          },
          "metadata": {}
        }
      ]
    }
  ]
}